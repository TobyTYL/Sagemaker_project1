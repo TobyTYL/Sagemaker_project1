{
 "cells": [
  {
   "cell_type": "code",
   "execution_count": 1,
   "metadata": {},
   "outputs": [],
   "source": [
    "import pandas as pd\n",
    "import numpy as np\n",
    "import seaborn as sns\n",
    "import matplotlib.pyplot as plt\n",
    "import zipfile\n"
   ]
  },
  {
   "cell_type": "code",
   "execution_count": 3,
   "metadata": {},
   "outputs": [
    {
     "name": "stdout",
     "output_type": "stream",
     "text": [
      "mkdir: ../data: File exists\n",
      "--2023-04-30 23:36:57--  http://ai.stanford.edu/~amaas/data/sentiment/aclImdb_v1.tar.gz\n",
      "正在解析主机 ai.stanford.edu (ai.stanford.edu)... 171.64.68.10\n",
      "正在连接 ai.stanford.edu (ai.stanford.edu)|171.64.68.10|:80... 已连接。\n",
      "已发出 HTTP 请求，正在等待回应... 200 OK\n",
      "长度：84125825 (80M) [application/x-gzip]\n",
      "正在保存至: “../data/aclImdb_v1.tar.gz”\n",
      "\n",
      "../data/aclImdb_v1. 100%[===================>]  80.23M  2.19MB/s  用时 75s       \n",
      "\n",
      "2023-04-30 23:38:12 (1.07 MB/s) - 已保存 “../data/aclImdb_v1.tar.gz” [84125825/84125825])\n",
      "\n"
     ]
    }
   ],
   "source": [
    "%mkdir ../data\n",
    "!wget -O ../data/aclImdb_v1.tar.gz http://ai.stanford.edu/~amaas/data/sentiment/aclImdb_v1.tar.gz\n",
    "!tar -zxf ../data/aclImdb_v1.tar.gz -C ../data"
   ]
  },
  {
   "cell_type": "code",
   "execution_count": 6,
   "metadata": {},
   "outputs": [],
   "source": [
    "import os\n",
    "import glob\n",
    "\n",
    "\n",
    "def read_imdb_data(data_dir='../data/aclImdb'):\n",
    "    data = {}\n",
    "    labels = {}\n",
    "\n",
    "    for data_type in ['train', 'test']:\n",
    "        data[data_type] = {}\n",
    "        labels[data_type] = {}\n",
    "\n",
    "        for sentiment in ['pos', 'neg']:\n",
    "            data[data_type][sentiment] = []\n",
    "            labels[data_type][sentiment] = []\n",
    "\n",
    "            path = os.path.join(data_dir, data_type, sentiment, '*.txt')\n",
    "            files = glob.glob(path)\n",
    "\n",
    "            for f in files:\n",
    "                with open(f) as review:\n",
    "                    data[data_type][sentiment].append(review.read())\n",
    "                    # Here we represent a positive review by '1' and a negative review by '0'\n",
    "                    labels[data_type][sentiment].append(\n",
    "                        1 if sentiment == 'pos' else 0)\n",
    "\n",
    "            assert len(data[data_type][sentiment]) == len(labels[data_type][sentiment]), \\\n",
    "                \"{}/{} data size does not match labels size\".format(\n",
    "                    data_type, sentiment)\n",
    "\n",
    "    return data, labels\n"
   ]
  },
  {
   "cell_type": "code",
   "execution_count": 7,
   "metadata": {},
   "outputs": [
    {
     "name": "stdout",
     "output_type": "stream",
     "text": [
      "IMDB reviews: train = 12500 pos / 12500 neg, test = 12500 pos / 12500 neg\n"
     ]
    }
   ],
   "source": [
    "data, labels = read_imdb_data()\n",
    "print(\"IMDB reviews: train = {} pos / {} neg, test = {} pos / {} neg\".format(\n",
    "    len(data['train']['pos']), len(data['train']['neg']),\n",
    "    len(data['test']['pos']), len(data['test']['neg'])))\n"
   ]
  },
  {
   "cell_type": "code",
   "execution_count": 8,
   "metadata": {},
   "outputs": [],
   "source": [
    "from sklearn.utils import shuffle\n",
    "\n",
    "\n",
    "def prepare_imdb_data(data, labels):\n",
    "    \"\"\"Prepare training and test sets from IMDb movie reviews.\"\"\"\n",
    "\n",
    "    #Combine positive and negative reviews and labels\n",
    "    data_train = data['train']['pos'] + data['train']['neg']\n",
    "    data_test = data['test']['pos'] + data['test']['neg']\n",
    "    labels_train = labels['train']['pos'] + labels['train']['neg']\n",
    "    labels_test = labels['test']['pos'] + labels['test']['neg']\n",
    "\n",
    "    #Shuffle reviews and corresponding labels within training and test sets\n",
    "    data_train, labels_train = shuffle(data_train, labels_train)\n",
    "    data_test, labels_test = shuffle(data_test, labels_test)\n",
    "\n",
    "    # Return a unified training data, test data, training labels, test labets\n",
    "    return data_train, data_test, labels_train, labels_test\n"
   ]
  },
  {
   "cell_type": "code",
   "execution_count": 9,
   "metadata": {},
   "outputs": [
    {
     "name": "stdout",
     "output_type": "stream",
     "text": [
      "IMDb reviews (combined): train = 25000, test = 25000\n"
     ]
    }
   ],
   "source": [
    "train_X, test_X, train_y, test_y = prepare_imdb_data(data, labels)\n",
    "print(\"IMDb reviews (combined): train = {}, test = {}\".format(len(train_X), len(test_X)))"
   ]
  },
  {
   "cell_type": "code",
   "execution_count": 10,
   "metadata": {},
   "outputs": [
    {
     "name": "stdout",
     "output_type": "stream",
     "text": [
      "A strong woman oriented subject after long, director Krishna Vamsi's Shakti- The Power, the Desi version of the Hollywood hit Not Without My Daughter is actress Sridevi's first home-production. A story about a woman's fight against harsh injustice.<br /><br />The story of the film revolves around Nandini (Karisma Kapoor) who lives in Canada with her two uncles (Tiku Talsania, Jaspal Bhatti). There she meets Shekhar (Sanjay Kapoor), falls in love with him and they soon marry. Their family is complete when Nandini has a boy, Raja (Master Jai Gidwani). But their happiness is short lived, as the news of Shekhar's ailing mother (Deepti Naval)makes them leave their perfect life in Canada and come to India. And that's when the problems start. From the moment they reach<br /><br />India, both are shocked to see the pollution and the vast throngs of people everywhere. They take a crowded train to reach Shekhar's village and when they finally reach the station, they have to catch a long bus drive to his village. The filthy sweaty bus combined with the uncertain terrain makes it a never-ending drive. And unfortunately for them, a frenzied mob that beat Shekhar out of shape for no fault of his attacks their bus. Fortunately, they get shot dead just in time before they can further harm him. After that, they drive to the handing Havel where Shekhar''s father, Narsimha (Nana Patekar) lives with his wife (Deepti Naval). Nandani realized that her father-in-law is in command as soon as she enters the place, but her only solace is her mother-in-law's warm welcome.<br /><br />Living there, Nandini learns of her father-in-laws tyrannical behavior and realizes that ruthless killing is a way of life for him. The day she sees her father-in-law teach her son to throw a bomb, she loses it and lashes out against him, insisting to Shekhar that they move back to Canada. But terror strikes again when Shekhar is murdered one day, leaving a broken down Nandini alone with her son in this strange land where she is harrowed by a cruel father-in-law. Her fight against this man to save her son is what makes up the climax of this emotional heart-wrenching film.<br /><br />What sets apart Shakti from most films being made off late is also the rural setting of the movie. The only drawback is Ismail Darbar''s music, which fails to rise above the script. The only saving grace is the sexy item number Ishq Kameena, which has been composed by Anu Malik. Another pat for the director comes because he has extracted some splendid performances from his cast. Karisma Kapoor is the life of the film and has given a moving performance as a helpless mother. She is sure to win awards for this heated portrayal. Second is actor Nana Patekar who is back with a bang with this film. His uncouth mannerisms suit him to the hilt and he's shown his versatility once again with this role. Sanjay Kapoor is the surprise packet of the film with a sincere and effective portrayal that stands up against both the other actors. Deepti Naval too is in top form and her Pr-climax showdown with Nana is praiseworthy. Shahrukh's cameo provides the lighter moments and surely he's been pulled in to get the required star value. Though his role was not really required, he's done it well. Overall, Shakti is a far superior film than most churned out these days and the Pr-release hype is sure to get it a good opening. Shakti is sure to get the critics and audience thumps up. So what if the film needs to be desperately trimmed by at least 2 reels to better the impact. Shakti still has the power to go on without a hitch!\n",
      "1\n"
     ]
    }
   ],
   "source": [
    "print(train_X[100])\n",
    "print(train_y[100])"
   ]
  },
  {
   "cell_type": "code",
   "execution_count": 12,
   "metadata": {},
   "outputs": [
    {
     "ename": "ModuleNotFoundError",
     "evalue": "No module named 'nltk'",
     "output_type": "error",
     "traceback": [
      "\u001b[0;31m---------------------------------------------------------------------------\u001b[0m",
      "\u001b[0;31mModuleNotFoundError\u001b[0m                       Traceback (most recent call last)",
      "Cell \u001b[0;32mIn[12], line 1\u001b[0m\n\u001b[0;32m----> 1\u001b[0m \u001b[38;5;28;01mimport\u001b[39;00m \u001b[38;5;21;01mnltk\u001b[39;00m\n\u001b[1;32m      2\u001b[0m \u001b[38;5;28;01mfrom\u001b[39;00m \u001b[38;5;21;01mnltk\u001b[39;00m\u001b[38;5;21;01m.\u001b[39;00m\u001b[38;5;21;01mcorpus\u001b[39;00m \u001b[38;5;28;01mimport\u001b[39;00m stopwords\n\u001b[1;32m      3\u001b[0m \u001b[38;5;28;01mfrom\u001b[39;00m \u001b[38;5;21;01mnltk\u001b[39;00m\u001b[38;5;21;01m.\u001b[39;00m\u001b[38;5;21;01mstem\u001b[39;00m\u001b[38;5;21;01m.\u001b[39;00m\u001b[38;5;21;01mporter\u001b[39;00m \u001b[38;5;28;01mimport\u001b[39;00m \u001b[38;5;241m*\u001b[39m\n",
      "\u001b[0;31mModuleNotFoundError\u001b[0m: No module named 'nltk'"
     ]
    }
   ],
   "source": [
    "import nltk\n",
    "from nltk.corpus import stopwords\n",
    "from nltk.stem.porter import *\n",
    "\n",
    "import re\n",
    "from bs4 import BeautifulSoup\n",
    "\n",
    "def review_to_words(review):\n",
    "    nltk.download(\"stopwords\", quiet=True)\n",
    "    stemmer = PorterStemmer()\n",
    "    \n",
    "    text = BeautifulSoup(review, \"html.parser\").get_text() # Remove HTML tags\n",
    "    text = re.sub(r\"[^a-zA-Z0-9]\", \" \", text.lower()) # Convert to lower case\n",
    "    words = text.split() # Split string into words\n",
    "    words = [w for w in words if w not in stopwords.words(\"english\")] # Remove stopwords\n",
    "    words = [PorterStemmer().stem(w) for w in words] # stem\n",
    "    \n",
    "    return words"
   ]
  },
  {
   "cell_type": "code",
   "execution_count": null,
   "metadata": {},
   "outputs": [],
   "source": []
  }
 ],
 "metadata": {
  "kernelspec": {
   "display_name": "Python 3 (ipykernel)",
   "language": "python",
   "name": "python3"
  },
  "language_info": {
   "codemirror_mode": {
    "name": "ipython",
    "version": 3
   },
   "file_extension": ".py",
   "mimetype": "text/x-python",
   "name": "python",
   "nbconvert_exporter": "python",
   "pygments_lexer": "ipython3",
   "version": "3.10.11"
  }
 },
 "nbformat": 4,
 "nbformat_minor": 2
}
